{
 "cells": [
  {
   "cell_type": "code",
   "execution_count": 1,
   "metadata": {},
   "outputs": [],
   "source": [
    "# Mohammed Farees Patel\n",
    "\n",
    "# Problem 3\n",
    "\n",
    "from bitarray import bitarray\n",
    "import xxhash\n",
    "from spooky import hash32\n",
    "import statistics\n",
    "import jhashcode\n",
    "import mmh3\n",
    "import math"
   ]
  },
  {
   "cell_type": "code",
   "execution_count": 5,
   "metadata": {},
   "outputs": [],
   "source": [
    "# function to count trailing zeros\n",
    "\n",
    "def return_tail_length(s):\n",
    "\ts = str(s)\t# binary representation of string\n",
    "\trev = s[::-1]\t# reversing the binary representation to count 0s\n",
    "\tcount = 0\n",
    "\tfor i in rev:\n",
    "\t\tif i is '0':\n",
    "\t\t\tcount = count + 1\n",
    "\t\telse:\n",
    "\t\t\tbreak\t\t\n",
    "\treturn count"
   ]
  },
  {
   "cell_type": "code",
   "execution_count": 6,
   "metadata": {},
   "outputs": [],
   "source": [
    "# list of files to read\n",
    "file_names =   ['\\quotes_2008-08.txt',\n",
    "\t\t'\\quotes_2008-09.txt',\n",
    "\t\t'\\quotes_2008-10.txt',\n",
    "\t\t'\\quotes_2008-11.txt',\n",
    "\t\t'\\quotes_2008-12.txt',\n",
    "\t\t'\\quotes_2009-01.txt',\n",
    "\t\t'\\quotes_2009-02.txt',\n",
    "\t\t'\\quotes_2009-03.txt',\n",
    "\t\t'\\quotes_2009-04.txt']\n"
   ]
  },
  {
   "cell_type": "code",
   "execution_count": 8,
   "metadata": {},
   "outputs": [],
   "source": [
    "# read the files as stream\n",
    "\n",
    "# Define 4 hash functions and save hash values for the stream in 4 different txt files\n",
    "\n",
    "with open(\"hash_function1.txt\", 'w') as h1_file, open(\"hash_function2.txt\", 'w') as h2_file, open(\"hash_function3.txt\", 'w') as h3_file, open(\"hash_function4.txt\", 'w') as h4_file:\n",
    "    for i in file_names:\n",
    "        fp = open(str(\"C:\\Users\\mohammed\\Downloads\"+i),\"r\")\n",
    "        for line in fp:\n",
    "            temp = line.split(\"\\t\")\n",
    "            # upon seeing quotes, hash them and convert to 32-bit binary\n",
    "            if temp[0] is 'Q':\n",
    "                # hashing\n",
    "                hash_value_1 = abs(xxhash.xxh32(temp[1]).intdigest())\n",
    "                hash_value_2 = abs(hash32(temp[1]))\n",
    "                hash_value_3 = abs(jhashcode.hashcode(temp[1]))\n",
    "                hash_value_4 = abs(mmh3.hash(temp[1]))\n",
    "                # binary representation\n",
    "                binary_1 = format(hash_value_1, '032b')\t\t# represent in 32 bits\n",
    "                binary_2 = format(hash_value_2, '032b')\t\t# represent in 32 bits\n",
    "                binary_3 = format(hash_value_3, '032b')\t\t# represent in 32 bits\n",
    "                binary_4 = format(hash_value_4, '032b')\t\t# represent in 32 bits\n",
    "                # trailing zeros\n",
    "                h1_file.write(\"%s\\n\" % str(return_tail_length(binary_1)))\n",
    "                h2_file.write(\"%s\\n\" % str(return_tail_length(binary_2)))\n",
    "                h3_file.write(\"%s\\n\" % str(return_tail_length(binary_3)))\n",
    "                h4_file.write(\"%s\\n\" % str(return_tail_length(binary_4)))\n",
    "        fp.close()\n",
    "    h1_file.close()\n",
    "    h2_file.close()\n",
    "    h3_file.close()\n",
    "    h4_file.close()"
   ]
  },
  {
   "cell_type": "code",
   "execution_count": 7,
   "metadata": {},
   "outputs": [],
   "source": [
    "# Files generated for each of the hash functions very large (600MB/file), \n",
    "# therefore I used the GNU utility for windows for splitting each hash function file\n",
    "# into 6 equal parts of 100MB each. And these files are loaded below for calculating the \n",
    "# maximum zero tail length for each hash function"
   ]
  },
  {
   "cell_type": "code",
   "execution_count": 46,
   "metadata": {},
   "outputs": [],
   "source": [
    "# Calculate the maximum tail length for each of the hash function\n",
    "\n",
    "h1_max=0\n",
    "h2_max=0\n",
    "h3_max=0\n",
    "h4_max=0\n",
    "\n",
    "files=[\"aa\",\"ab\",\"ac\",\"ad\",\"ae\",\"af\",\"ag\"]\n",
    "\n",
    "for file in files:\n",
    "    with open(\"hash1_\"+file+\".txt\") as myfile:\n",
    "        for f in myfile:\n",
    "            if(int(f.rstrip('\\n'))>h1_max):\n",
    "                h1_max=int(f.rstrip('\\n'))\n",
    "        myfile.close()\n",
    "        \n",
    "for file in files:\n",
    "    with open(\"hash2_\"+file+\".txt\") as myfile:\n",
    "        for f in myfile:\n",
    "            if(int(f.rstrip('\\n'))>h2_max):\n",
    "                h2_max=int(f.rstrip('\\n'))\n",
    "        myfile.close()\n",
    "        \n",
    "for file in files:\n",
    "    with open(\"hash3_\"+file+\".txt\") as myfile:\n",
    "        for f in myfile:\n",
    "            if(int(f.rstrip('\\n'))>h3_max):\n",
    "                h3_max=int(f.rstrip('\\n'))\n",
    "        myfile.close()\n",
    "\n",
    "for file in files:\n",
    "    with open(\"hash4_\"+file+\".txt\") as myfile:\n",
    "        for f in myfile:\n",
    "            if(int(f.rstrip('\\n'))>h4_max):\n",
    "                h4_max=int(f.rstrip('\\n'))\n",
    "        myfile.close()"
   ]
  },
  {
   "cell_type": "code",
   "execution_count": 51,
   "metadata": {},
   "outputs": [],
   "source": [
    "# Calculate the distinct quotes by averaging first 2 hash functions and averaging te last 2 hash functions\n",
    "# Further taking the median of both the averages results in the total distinct quotes\n",
    "\n",
    "avg_hash12 = (2**(h1_max) + 2**(h2_max))/ float(2)\n",
    "avg_hash34 = (2**(h3_max) + 2**(h4_max))/ float(2)\n",
    "distinct_quotes= math.ceil(statistics.median([avg_hash12, avg_hash34]))"
   ]
  },
  {
   "cell_type": "code",
   "execution_count": 52,
   "metadata": {},
   "outputs": [
    {
     "name": "stdout",
     "output_type": "stream",
     "text": [
      "Estimated number of distinct quotes: 21274836\n"
     ]
    }
   ],
   "source": [
    "print \"Estimated number of distinct quotes: %d\" % 21274836"
   ]
  }
 ],
 "metadata": {
  "kernelspec": {
   "display_name": "Python 2",
   "language": "python",
   "name": "python2"
  },
  "language_info": {
   "codemirror_mode": {
    "name": "ipython",
    "version": 2
   },
   "file_extension": ".py",
   "mimetype": "text/x-python",
   "name": "python",
   "nbconvert_exporter": "python",
   "pygments_lexer": "ipython2",
   "version": "2.7.14"
  }
 },
 "nbformat": 4,
 "nbformat_minor": 2
}
